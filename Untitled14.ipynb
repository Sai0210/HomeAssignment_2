{
  "nbformat": 4,
  "nbformat_minor": 0,
  "metadata": {
    "colab": {
      "provenance": [],
      "authorship_tag": "ABX9TyPiMsXM9YCcZoLkttr7VwL9",
      "include_colab_link": true
    },
    "kernelspec": {
      "name": "python3",
      "display_name": "Python 3"
    },
    "language_info": {
      "name": "python"
    }
  },
  "cells": [
    {
      "cell_type": "markdown",
      "metadata": {
        "id": "view-in-github",
        "colab_type": "text"
      },
      "source": [
        "<a href=\"https://colab.research.google.com/github/Sai0210/HomeAssignment_2/blob/main/Untitled14.ipynb\" target=\"_parent\"><img src=\"https://colab.research.google.com/assets/colab-badge.svg\" alt=\"Open In Colab\"/></a>"
      ]
    },
    {
      "cell_type": "code",
      "execution_count": null,
      "metadata": {
        "id": "BBnicAUuBotI"
      },
      "outputs": [],
      "source": [
        "import numpy as np\n",
        "import tensorflow as tf\n",
        "from tensorflow.keras.layers import Conv2D"
      ]
    },
    {
      "cell_type": "code",
      "source": [
        "# Define the input matrix and kernel\n",
        "input_matrix = np.array([[1, 2, 3, 4, 5],\n",
        "                         [6, 7, 8, 9, 10],\n",
        "                         [11, 12, 13, 14, 15],\n",
        "                         [16, 17, 18, 19, 20],\n",
        "                         [21, 22, 23, 24, 25]], dtype=np.float32)\n",
        "\n",
        "kernel = np.array([[0, 1, 0],\n",
        "                   [1, -4, 1],\n",
        "                   [0, 1, 0]], dtype=np.float32)\n"
      ],
      "metadata": {
        "id": "x81UDyH-BucN"
      },
      "execution_count": null,
      "outputs": []
    },
    {
      "cell_type": "code",
      "source": [
        "# Reshape input and kernel for TensorFlow/Keras\n",
        "input_matrix = input_matrix.reshape((1, 5, 5, 1))\n",
        "kernel = kernel.reshape((3, 3, 1, 1))"
      ],
      "metadata": {
        "id": "5bVCamm1B3I-"
      },
      "execution_count": null,
      "outputs": []
    },
    {
      "cell_type": "code",
      "source": [
        "# Function to perform convolution and print output\n",
        "def perform_convolution(input_data, kernel_data, strides, padding):\n",
        "    conv_layer = Conv2D(filters=1, kernel_size=(3, 3), strides=strides, padding=padding,\n",
        "                        kernel_initializer=tf.constant_initializer(kernel_data))\n",
        "    output = conv_layer(input_data)\n",
        "    print(f\"Stride = {strides}, Padding = '{padding}'\")\n",
        "    print(output.numpy().reshape(output.shape[1], output.shape[2]))\n",
        "    print(\"-\" * 20)"
      ],
      "metadata": {
        "id": "w6PAaIjxB_1j"
      },
      "execution_count": null,
      "outputs": []
    },
    {
      "cell_type": "code",
      "source": [
        "# Perform convolution with different parameters\n",
        "perform_convolution(input_matrix, kernel, strides=1, padding='VALID')\n",
        "perform_convolution(input_matrix, kernel, strides=1, padding='SAME')\n",
        "perform_convolution(input_matrix, kernel, strides=2, padding='VALID')\n",
        "perform_convolution(input_matrix, kernel, strides=2, padding='SAME')"
      ],
      "metadata": {
        "colab": {
          "base_uri": "https://localhost:8080/"
        },
        "id": "J5i9_TZHCCvC",
        "outputId": "44b4bc86-4362-4d13-cc41-6c030c43d022"
      },
      "execution_count": null,
      "outputs": [
        {
          "output_type": "stream",
          "name": "stdout",
          "text": [
            "Stride = 1, Padding = 'VALID'\n",
            "[[0. 0. 0.]\n",
            " [0. 0. 0.]\n",
            " [0. 0. 0.]]\n",
            "--------------------\n",
            "Stride = 1, Padding = 'SAME'\n",
            "[[  4.   3.   2.   1.  -6.]\n",
            " [ -5.   0.   0.   0. -11.]\n",
            " [-10.   0.   0.   0. -16.]\n",
            " [-15.   0.   0.   0. -21.]\n",
            " [-46. -27. -28. -29. -56.]]\n",
            "--------------------\n",
            "Stride = 2, Padding = 'VALID'\n",
            "[[0. 0.]\n",
            " [0. 0.]]\n",
            "--------------------\n",
            "Stride = 2, Padding = 'SAME'\n",
            "[[  4.   2.  -6.]\n",
            " [-10.   0. -16.]\n",
            " [-46. -28. -56.]]\n",
            "--------------------\n"
          ]
        }
      ]
    },
    {
      "cell_type": "code",
      "source": [],
      "metadata": {
        "id": "K4jjcZrbCJU1"
      },
      "execution_count": null,
      "outputs": []
    }
  ]
}